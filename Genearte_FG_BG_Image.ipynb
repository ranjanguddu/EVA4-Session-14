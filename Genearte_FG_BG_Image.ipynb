{
  "nbformat": 4,
  "nbformat_minor": 0,
  "metadata": {
    "kernelspec": {
      "display_name": "Python 3",
      "language": "python",
      "name": "python3"
    },
    "language_info": {
      "codemirror_mode": {
        "name": "ipython",
        "version": 3
      },
      "file_extension": ".py",
      "mimetype": "text/x-python",
      "name": "python",
      "nbconvert_exporter": "python",
      "pygments_lexer": "ipython3",
      "version": "3.7.3"
    },
    "colab": {
      "name": "Genearte_FG_BG_Image.ipynb",
      "provenance": [],
      "include_colab_link": true
    }
  },
  "cells": [
    {
      "cell_type": "markdown",
      "metadata": {
        "id": "view-in-github",
        "colab_type": "text"
      },
      "source": [
        "<a href=\"https://colab.research.google.com/github/ranjanguddu/EVA4-Session-14/blob/master/Genearte_FG_BG_Image.ipynb\" target=\"_parent\"><img src=\"https://colab.research.google.com/assets/colab-badge.svg\" alt=\"Open In Colab\"/></a>"
      ]
    },
    {
      "cell_type": "code",
      "metadata": {
        "id": "P5WCDedd17jB",
        "colab_type": "code",
        "colab": {}
      },
      "source": [
        "path='/Users/vikasran/Documents/EVA-Session/Assignment-15A/'\n",
        "zip_path = path + \"IMAGEDATA.zip\"\n",
        "fg_path = path + \"fg_image/\"\n",
        "bg_path = path + \"street_bg/\"\n",
        "fg_mask_path = path + \"fg_mask/\"\n",
        "bg_fg_image_path = path+ \"fg_bg_image/\"\n",
        "bg_fg_mask_path = path+ \"fg_bg_mask/"
      ],
      "execution_count": 0,
      "outputs": []
    },
    {
      "cell_type": "markdown",
      "metadata": {
        "id": "sCbP_VDR17jN",
        "colab_type": "text"
      },
      "source": [
        "## Generating Mask For fg Images ##"
      ]
    },
    {
      "cell_type": "code",
      "metadata": {
        "id": "iC86uTEF17jO",
        "colab_type": "code",
        "colab": {}
      },
      "source": [
        "for filename in sorted(os.listdir(fg_path)):\n",
        "    \n",
        "    if not filename.startswith('.'):\n",
        "        \n",
        "        f = fg_path+filename\n",
        "        img = cv2.imread(f, cv2.IMREAD_UNCHANGED)\n",
        "        im = img[:,:,3] # this one store the value of alpha channle whic is mask\n",
        "        dest = fg_mask_path +filename[:-4]+\"_mask.png\"  \n",
        "    \n",
        "        cv2.imwrite(dest, im)"
      ],
      "execution_count": 0,
      "outputs": []
    },
    {
      "cell_type": "markdown",
      "metadata": {
        "id": "HYj9nFhh17jY",
        "colab_type": "text"
      },
      "source": [
        "## Overlaying the fg images over bg images and genearatin their mask simultaneously ##"
      ]
    },
    {
      "cell_type": "code",
      "metadata": {
        "id": "X2ux9KPx17jZ",
        "colab_type": "code",
        "colab": {}
      },
      "source": [
        "import random\n",
        "\n",
        "\n",
        "blank_image = Image.fromarray(np.zeros(shape=(224,224), dtype=np.uint8))\n",
        "\n",
        "location = [(9*a, 10*b) for a in range(20) for b in range(20)]\n",
        "count = 0\n",
        "tempcount = 0\n",
        "batch = 1\n",
        "out_zip = ZipFile(path+\"DATA_IMAGE_MASK.zip\", mode='a', compression=zipfile.ZIP_STORED)\n",
        "\n",
        "t1 = time.time()\n",
        "pbar = tqdm(sorted(os.listdir(fg_path)))\n",
        "for fg_image_name in pbar:\n",
        "    \n",
        "    \n",
        "    if not fg_image_name.startswith('.'):\n",
        "        f = fg_path+fg_image_name\n",
        "        f_mask = fg_mask_path+fg_image_name[:-4]+\"_mask.png\"\n",
        "        fg_image = Image.open(f)\n",
        "        fg_image_mask = Image.open(f_mask)\n",
        "    \n",
        "        for bg_image_name in sorted(os.listdir(bg_path)):\n",
        "            if not bg_image_name.startswith('.'):\n",
        "                bg_image = Image.open(bg_path+bg_image_name)\n",
        "        \n",
        "                for i in range(20):\n",
        "                    if tempcount == 40000:\n",
        "                        pbar.set_description(f'batch{str(batch)} completed')\n",
        "                        batch+=1\n",
        "                        tempcount = 0\n",
        "                        \n",
        "                    \n",
        "                    count+=1\n",
        "                    tempcount +=1\n",
        "                    \n",
        "                    \n",
        "                    background = bg_image.copy()\n",
        "                    loc = random.choice(location)\n",
        "                    background.paste(fg_image, loc, fg_image)\n",
        "            \n",
        "                    black_patch = blank_image.copy()\n",
        "                    black_patch.paste(fg_image_mask, loc, fg_image_mask)\n",
        "\n",
        "\n",
        "                    background.save(\"bg_fg.jpg\", optimize=True, quality=30)\n",
        "                    black_patch.save(\"bg_fg_mask.png\", optimize=True, quality=30)\n",
        "                    \n",
        "                    out_zip.write(\"bg_fg.jpg\", f'fg_bg_image/image_batch{str(batch)}/bg_fg_image{str(count)}.jpg')\n",
        "                    out_zip.write(\"bg_fg_mask.png\", f'fg_bg_mask/mask_batch{str(batch)}/bg_fg_mask{str(count)}.jpg')\n",
        "                    \n",
        "                    \n",
        "                    \n",
        "                    \n",
        "\n",
        "                    \n",
        "print(\"No.of images created = \", count)\n",
        "t2 = time.time()\n",
        "print(\"Time taken to genearte the Dataset is:{} seconds\".format(t2-t1))\n",
        "out_zip.close()"
      ],
      "execution_count": 0,
      "outputs": []
    },
    {
      "cell_type": "markdown",
      "metadata": {
        "id": "zMmlvbwI17jg",
        "colab_type": "text"
      },
      "source": [
        "## Code to RESIZE the Images using openCV ##\n"
      ]
    },
    {
      "cell_type": "code",
      "metadata": {
        "id": "2x3ANHZR17ji",
        "colab_type": "code",
        "colab": {}
      },
      "source": [
        "import os\n",
        "for filename in sorted(os.listdir(fg_path)):\n",
        "    print(filename[:-4])\n",
        "    f = fg_path+filename\n",
        "    img = cv2.imread(f, cv2.IMREAD_UNCHANGED)\n",
        "    img_resize = cv2.resize(img, (224,224))\n",
        "    dest = '/Users/vikasran/Documents/EVA-Session/Assignment-15A/resized_street_bg/'+filename\n",
        "    \n",
        "    cv2.imwrite(dest, img_resize)"
      ],
      "execution_count": 0,
      "outputs": []
    }
  ]
}